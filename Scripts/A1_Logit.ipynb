{
 "cells": [
  {
   "cell_type": "code",
   "execution_count": 1,
   "metadata": {},
   "outputs": [],
   "source": [
    "#Import required libraries\n",
    "import numpy as np\n",
    "import pandas as pd\n",
    "from sklearn.tree import DecisionTreeClassifier\n",
    "from sklearn.model_selection import train_test_split\n",
    "from sklearn import metrics\n",
    "\n",
    "from matplotlib import pyplot as plt\n",
    "import sklearn\n",
    "from sklearn.metrics import roc_curve, auc\n",
    "from sklearn.model_selection import train_test_split\n",
    "from sklearn.model_selection import cross_val_score\n",
    "from sklearn.model_selection import KFold\n",
    "from sklearn.linear_model import LogisticRegression\n",
    "import statsmodels.api as sm\n",
    "from sklearn.metrics import confusion_matrix\n",
    "from sklearn.metrics import classification_report"
   ]
  },
  {
   "cell_type": "code",
   "execution_count": 2,
   "metadata": {},
   "outputs": [
    {
     "name": "stdout",
     "output_type": "stream",
     "text": [
      "<class 'pandas.core.frame.DataFrame'>\n",
      "RangeIndex: 210143 entries, 0 to 210142\n",
      "Data columns (total 7 columns):\n",
      "temp        210143 non-null float64\n",
      "wind        210143 non-null float64\n",
      "rain        210143 non-null float64\n",
      "humi        210143 non-null float64\n",
      "dew         210143 non-null float64\n",
      "snow        210143 non-null float64\n",
      "accident    210143 non-null int64\n",
      "dtypes: float64(6), int64(1)\n",
      "memory usage: 11.2 MB\n"
     ]
    }
   ],
   "source": [
    "#Load Data\n",
    "file_loc = 'C:\\\\Users\\\\TJ\\\\Documents\\\\Denver\\\\GitHub\\\\TheZoen\\\\Data\\\\trial_last\\\\all.xlsx'\n",
    "df = pd.read_excel(file_loc)\n",
    "df.info()"
   ]
  },
  {
   "cell_type": "code",
   "execution_count": 4,
   "metadata": {},
   "outputs": [
    {
     "name": "stdout",
     "output_type": "stream",
     "text": [
      "<class 'pandas.core.frame.DataFrame'>\n",
      "RangeIndex: 210143 entries, 0 to 210142\n",
      "Data columns (total 7 columns):\n",
      "temp        210143 non-null float64\n",
      "wind        210143 non-null float64\n",
      "rain        210143 non-null float64\n",
      "humi        210143 non-null float64\n",
      "dew         210143 non-null float64\n",
      "snow        210143 non-null float64\n",
      "accident    210143 non-null bool\n",
      "dtypes: bool(1), float64(6)\n",
      "memory usage: 9.8 MB\n"
     ]
    }
   ],
   "source": [
    "df['accident'] = df['accident'].astype(bool)\n",
    "df.info()"
   ]
  },
  {
   "cell_type": "code",
   "execution_count": 5,
   "metadata": {},
   "outputs": [],
   "source": [
    "X = df.iloc[:,:6]\n",
    "Y = df.accident\n",
    "# X.head()\n",
    "# Y.head()"
   ]
  },
  {
   "cell_type": "code",
   "execution_count": 6,
   "metadata": {},
   "outputs": [],
   "source": [
    "#Splitting Data\n",
    "#split dataset into training set and test set\n",
    "X_train, X_test, Y_train, Y_test = train_test_split(X, Y, test_size = 0.3, random_state=1)"
   ]
  },
  {
   "cell_type": "code",
   "execution_count": 7,
   "metadata": {},
   "outputs": [
    {
     "name": "stderr",
     "output_type": "stream",
     "text": [
      "C:\\Anaconda3\\lib\\site-packages\\sklearn\\linear_model\\logistic.py:432: FutureWarning: Default solver will be changed to 'lbfgs' in 0.22. Specify a solver to silence this warning.\n",
      "  FutureWarning)\n"
     ]
    },
    {
     "name": "stdout",
     "output_type": "stream",
     "text": [
      "Optimization terminated successfully.\n",
      "         Current function value: 0.274770\n",
      "         Iterations 7\n",
      "                         Results: Logit\n",
      "=================================================================\n",
      "Model:              Logit            Pseudo R-squared: 0.084     \n",
      "Dependent Variable: accident         AIC:              80849.2691\n",
      "Date:               2019-07-10 15:26 BIC:              80908.6623\n",
      "No. Observations:   147100           Log-Likelihood:   -40419.   \n",
      "Df Model:           5                LL-Null:          -44106.   \n",
      "Df Residuals:       147094           LLR p-value:      0.0000    \n",
      "Converged:          1.0000           Scale:            1.0000    \n",
      "No. Iterations:     7.0000                                       \n",
      "-------------------------------------------------------------------\n",
      "         Coef.    Std.Err.       z       P>|z|     [0.025    0.975]\n",
      "-------------------------------------------------------------------\n",
      "temp     0.0030     0.0016      1.8920   0.0585   -0.0001    0.0061\n",
      "wind     0.0638     0.0092      6.9318   0.0000    0.0458    0.0819\n",
      "rain     0.0248     0.0124      2.0021   0.0453    0.0005    0.0492\n",
      "humi    -0.0495     0.0004   -139.1644   0.0000   -0.0502   -0.0488\n",
      "dew      0.0586     0.0017     35.0333   0.0000    0.0553    0.0619\n",
      "snow     0.1139     0.0110     10.3943   0.0000    0.0924    0.1354\n",
      "=================================================================\n",
      "\n"
     ]
    },
    {
     "name": "stderr",
     "output_type": "stream",
     "text": [
      "C:\\Anaconda3\\lib\\site-packages\\sklearn\\linear_model\\logistic.py:432: FutureWarning: Default solver will be changed to 'lbfgs' in 0.22. Specify a solver to silence this warning.\n",
      "  FutureWarning)\n",
      "C:\\Anaconda3\\lib\\site-packages\\sklearn\\linear_model\\logistic.py:432: FutureWarning: Default solver will be changed to 'lbfgs' in 0.22. Specify a solver to silence this warning.\n",
      "  FutureWarning)\n",
      "C:\\Anaconda3\\lib\\site-packages\\sklearn\\linear_model\\logistic.py:432: FutureWarning: Default solver will be changed to 'lbfgs' in 0.22. Specify a solver to silence this warning.\n",
      "  FutureWarning)\n",
      "C:\\Anaconda3\\lib\\site-packages\\sklearn\\linear_model\\logistic.py:432: FutureWarning: Default solver will be changed to 'lbfgs' in 0.22. Specify a solver to silence this warning.\n",
      "  FutureWarning)\n",
      "C:\\Anaconda3\\lib\\site-packages\\sklearn\\linear_model\\logistic.py:432: FutureWarning: Default solver will be changed to 'lbfgs' in 0.22. Specify a solver to silence this warning.\n",
      "  FutureWarning)\n"
     ]
    },
    {
     "name": "stdout",
     "output_type": "stream",
     "text": [
      "Logistic Regression\n",
      "Accuracy : 0.9091096553146265\n",
      "Score of K-fold Cross Validation :\n",
      " [0.91080897 0.90815772 0.91305235 0.91169273 0.91210061] \n",
      "Mean: 0.91 \n",
      "\n",
      "Confusion Matrix : \n",
      " [[134032      0]\n",
      " [ 13068      0]]\n",
      "\n",
      "Classification Report\n"
     ]
    },
    {
     "name": "stderr",
     "output_type": "stream",
     "text": [
      "C:\\Anaconda3\\lib\\site-packages\\sklearn\\metrics\\classification.py:1437: UndefinedMetricWarning: Precision and F-score are ill-defined and being set to 0.0 in labels with no predicted samples.\n",
      "  'precision', 'predicted', average, warn_for)\n",
      "C:\\Anaconda3\\lib\\site-packages\\sklearn\\metrics\\classification.py:1437: UndefinedMetricWarning: Precision and F-score are ill-defined and being set to 0.0 in labels with no predicted samples.\n",
      "  'precision', 'predicted', average, warn_for)\n",
      "C:\\Anaconda3\\lib\\site-packages\\sklearn\\metrics\\classification.py:1437: UndefinedMetricWarning: Precision and F-score are ill-defined and being set to 0.0 in labels with no predicted samples.\n",
      "  'precision', 'predicted', average, warn_for)\n"
     ]
    },
    {
     "name": "stdout",
     "output_type": "stream",
     "text": [
      "              precision    recall  f1-score   support\n",
      "\n",
      "       False       0.91      1.00      0.95    134032\n",
      "        True       0.00      0.00      0.00     13068\n",
      "\n",
      "    accuracy                           0.91    147100\n",
      "   macro avg       0.46      0.50      0.48    147100\n",
      "weighted avg       0.83      0.91      0.87    147100\n",
      "\n"
     ]
    },
    {
     "data": {
      "image/png": "[encoded data removed]",
      "text/plain": [
       "<Figure size 432x288 with 1 Axes>"
      ]
     },
     "metadata": {},
     "output_type": "display_data"
    }
   ],
   "source": [
    "model = LogisticRegression()\n",
    "name = 'Logistic Regression'\n",
    "model.fit(X_train, Y_train)\n",
    "logit_model=sm.Logit( Y_train,X_train)\n",
    "result=logit_model.fit()\n",
    "print(result.summary2())\n",
    "    \n",
    "pred = model.predict(X_test)\n",
    "score = sklearn.metrics.accuracy_score(Y_test, pred)\n",
    "    #열마다 T, F값 저장\n",
    "preds = model.predict_proba(X_test)\n",
    "pred = pd.Series(preds[:,1])\n",
    "fpr, tpr, thresholds = roc_curve(Y_test, pred)\n",
    "auc_score = auc(fpr, tpr)\n",
    "label = '%s: auc=%f' %(name, auc_score)\n",
    "plt.plot(fpr, tpr, '-', linewidth = .5, label = label)\n",
    "\n",
    "    #K-fold cross validation\n",
    "cv = KFold(5, shuffle=True, random_state=0)\n",
    "scores = cross_val_score(model, X_train, Y_train, cv=cv)\n",
    "print(name)\n",
    "print(\"Accuracy :\", score )\n",
    "print(\"Score of K-fold Cross Validation :\\n\", scores, \"\\nMean: {:.2f}\".format(scores.mean()), \"\\n\")\n",
    "\n",
    "\n",
    "print(\"Confusion Matrix : \\n\",confusion_matrix(Y_train, model.predict(X_train)))\n",
    "\n",
    "\n",
    "print(\"\\nClassification Report\")\n",
    "print(classification_report(Y_train, model.predict(X_train)))\n",
    "\n",
    "\n",
    "plt.legend(loc=\"lower right\")\n",
    "plt.title(\"Performance comparison ROC curve\")\n",
    "\n",
    "plt.plot([0, 1], [0, 1], 'k--')\n",
    "plt.xlim([0.0, 1.0])\n",
    "plt.ylim([0.0, 1.05])\n",
    "plt.xlabel('False positive rate')\n",
    "plt.ylabel('True positive rate')\n",
    "plt.show()\n",
    "\n",
    "\n",
    "    "
   ]
  }
 ],
 "metadata": {
  "kernelspec": {
   "display_name": "Python 3",
   "language": "python",
   "name": "python3"
  },
  "language_info": {
   "codemirror_mode": {
    "name": "ipython",
    "version": 3
   },
   "file_extension": ".py",
   "mimetype": "text/x-python",
   "name": "python",
   "nbconvert_exporter": "python",
   "pygments_lexer": "ipython3",
   "version": "3.6.8"
  }
 },
 "nbformat": 4,
 "nbformat_minor": 2
}
